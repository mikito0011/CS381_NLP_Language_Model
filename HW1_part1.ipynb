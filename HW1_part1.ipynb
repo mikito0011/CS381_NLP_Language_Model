{
 "cells": [
  {
   "cell_type": "code",
   "execution_count": 9,
   "metadata": {},
   "outputs": [
    {
     "name": "stdout",
     "output_type": "stream",
     "text": [
      "Part1\n"
     ]
    }
   ],
   "source": [
    "print(\"Part1\")"
   ]
  },
  {
   "cell_type": "code",
   "execution_count": 10,
   "metadata": {},
   "outputs": [],
   "source": [
    "corpus = \"<s> I am Sam </s> <s> Sam I am </s> <s> I am Sam </s> <s> I do not like green eggs and Sam </s>\""
   ]
  },
  {
   "cell_type": "code",
   "execution_count": 17,
   "metadata": {},
   "outputs": [],
   "source": [
    "uniDict = dict() #create a dictionary to store vocaburary size\n",
    "\n",
    "for word in corpus.split():\n",
    "    #add count of 'am Sam' for each line\n",
    "    if word in uniDict:\n",
    "        uniDict[word] = uniDict[word] +1\n",
    "    else:\n",
    "        uniDict[word] = 1\n"
   ]
  },
  {
   "cell_type": "code",
   "execution_count": 20,
   "metadata": {},
   "outputs": [],
   "source": [
    "wordList=corpus.split()"
   ]
  },
  {
   "cell_type": "code",
   "execution_count": 29,
   "metadata": {},
   "outputs": [],
   "source": [
    "countofTuple=0\n",
    "for i in range(len(wordList)-1):\n",
    "    if(wordList[i]==\"am\" and wordList[i+1]==\"Sam\"):\n",
    "        countofTuple += 1"
   ]
  },
  {
   "cell_type": "code",
   "execution_count": 31,
   "metadata": {},
   "outputs": [],
   "source": []
  },
  {
   "cell_type": "code",
   "execution_count": 40,
   "metadata": {},
   "outputs": [
    {
     "name": "stdout",
     "output_type": "stream",
     "text": [
      "P(Sam|am) = (C(am, Sam)+1)/(C(am)+v)= 0.21 %\n"
     ]
    }
   ],
   "source": [
    "#count of \"am Sam\" +1 divide by count of 'am' + vocaburary size\n",
    "prob = (countofTuple +1)/(uniDict.get('am')+len(uniDict)) \n",
    "print(\"P(Sam|am) = (C(am, Sam)+1)/(C(am)+v)=\", \"%.2f\" % prob, '%')"
   ]
  },
  {
   "cell_type": "code",
   "execution_count": null,
   "metadata": {},
   "outputs": [],
   "source": []
  }
 ],
 "metadata": {
  "kernelspec": {
   "display_name": "Python 3",
   "language": "python",
   "name": "python3"
  },
  "language_info": {
   "codemirror_mode": {
    "name": "ipython",
    "version": 3
   },
   "file_extension": ".py",
   "mimetype": "text/x-python",
   "name": "python",
   "nbconvert_exporter": "python",
   "pygments_lexer": "ipython3",
   "version": "3.7.4"
  }
 },
 "nbformat": 4,
 "nbformat_minor": 2
}
